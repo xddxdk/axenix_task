{
 "cells": [
  {
   "cell_type": "markdown",
   "id": "2d81ccb0",
   "metadata": {},
   "source": [
    "# **Простой бот** (без памяти)"
   ]
  },
  {
   "cell_type": "markdown",
   "id": "b848cd3a",
   "metadata": {},
   "source": [
    "Используется `Qwen3-8b:free` (по API с OpenRouter)\n",
    "\n",
    "Инструменты: **parse_user_query** **get_current_time**, **get_weather**\n",
    "\n",
    "Структура: parse_user_query использует LLM Qwen для обработки запроса пользователя, и выводит JSON следующего формата: \n",
    "\n",
    "`{`\n",
    "\n",
    "    \"action\": \"get_weather\" или \"get_time\", иначе null,\n",
    "\n",
    "    \"date\": дата в формате YYYY-MM-DD или null, если не указана,\n",
    "\n",
    "    \"location\": город как строка (только на русском языке) или null, если не указан\n",
    "\n",
    "`}`\n",
    "\n",
    "На основе данных с парсера, применяем get_current_time либо get_weather\n",
    "\n",
    "P.S. Бот работает с русским языком. Конечно, парсер может корректно обработать запросы на английском (причем успешно, есть примеры ниже), но ответы бот выдает только на русском, пользователь не поймет. В теории модель можно доработать, например, чтобы парсер выводил в JSON еще и language (русский или английский). А затем построить функцию с if."
   ]
  },
  {
   "cell_type": "markdown",
   "id": "affe54c6",
   "metadata": {},
   "source": [
    "### **Создание БД**"
   ]
  },
  {
   "cell_type": "code",
   "execution_count": 2,
   "id": "8bda1839",
   "metadata": {},
   "outputs": [],
   "source": [
    "from modules.cache import init_db"
   ]
  },
  {
   "cell_type": "code",
   "execution_count": 3,
   "id": "7e0e0cfb",
   "metadata": {},
   "outputs": [],
   "source": [
    "init_db()"
   ]
  },
  {
   "cell_type": "markdown",
   "id": "eb099579",
   "metadata": {},
   "source": [
    "### **Примеры работы инструментов**\n",
    "#### *Парсер*\n",
    "Обрабатывает вопрос пользователя и создает json-файл, содержащий action (get_time для времени, get_weather для погоды), date для даты в формате YYYY-MM-DD, location для города."
   ]
  },
  {
   "cell_type": "code",
   "execution_count": 1,
   "id": "6b3975c5",
   "metadata": {},
   "outputs": [],
   "source": [
    "from modules.llm_parser import parse_user_query"
   ]
  },
  {
   "cell_type": "code",
   "execution_count": 5,
   "id": "00afc322",
   "metadata": {},
   "outputs": [
    {
     "name": "stdout",
     "output_type": "stream",
     "text": [
      "{'action': 'get_time', 'date': None, 'location': None}\n"
     ]
    }
   ],
   "source": [
    "print(parse_user_query(\"Сколько время?\"))"
   ]
  },
  {
   "cell_type": "code",
   "execution_count": 3,
   "id": "5c24fe96",
   "metadata": {},
   "outputs": [
    {
     "name": "stdout",
     "output_type": "stream",
     "text": [
      "{'action': None, 'date': None, 'location': None}\n"
     ]
    }
   ],
   "source": [
    "print(parse_user_query(\"Сколько планет в солнечной системе?\"))"
   ]
  },
  {
   "cell_type": "code",
   "execution_count": 10,
   "id": "2dafc5be",
   "metadata": {},
   "outputs": [
    {
     "name": "stdout",
     "output_type": "stream",
     "text": [
      "{'action': 'get_weather', 'date': '2003-10-25', 'location': 'Миасс'}\n"
     ]
    }
   ],
   "source": [
    "print(parse_user_query(\"Какая погода была в Миассе 25 октября 2003 года?\"))"
   ]
  },
  {
   "cell_type": "code",
   "execution_count": 2,
   "id": "6f6a1037",
   "metadata": {},
   "outputs": [
    {
     "name": "stdout",
     "output_type": "stream",
     "text": [
      "{'action': 'get_weather', 'date': None, 'location': 'Лос-Анджелес'}\n"
     ]
    }
   ],
   "source": [
    "print(parse_user_query(\"Tell me the weather in LA\"))"
   ]
  },
  {
   "cell_type": "code",
   "execution_count": 3,
   "id": "6e2682f3",
   "metadata": {},
   "outputs": [
    {
     "name": "stdout",
     "output_type": "stream",
     "text": [
      "{'action': None, 'date': None, 'location': None}\n"
     ]
    }
   ],
   "source": [
    "print(parse_user_query(\"Hello bro, how are you?\"))"
   ]
  },
  {
   "cell_type": "markdown",
   "id": "19862bfd",
   "metadata": {},
   "source": [
    "#### *Время*\n",
    "Функция получает на вход пустое значение для вывода системного времени, либо конкретный город, для вывода текущего времени в указанном городе"
   ]
  },
  {
   "cell_type": "code",
   "execution_count": 1,
   "id": "eb67f786",
   "metadata": {},
   "outputs": [],
   "source": [
    "from modules.time import get_current_time"
   ]
  },
  {
   "cell_type": "code",
   "execution_count": 12,
   "id": "163b7c27",
   "metadata": {},
   "outputs": [
    {
     "name": "stdout",
     "output_type": "stream",
     "text": [
      "Сейчас 13:23:06 (по системному времени)\n"
     ]
    }
   ],
   "source": [
    "print(get_current_time())"
   ]
  },
  {
   "cell_type": "code",
   "execution_count": 6,
   "id": "cb9dcc29",
   "metadata": {},
   "outputs": [
    {
     "name": "stdout",
     "output_type": "stream",
     "text": [
      "Сейчас 02:29:27 в городе Нью-Йорк\n"
     ]
    }
   ],
   "source": [
    "print(get_current_time(\"Нью-Йорк\"))"
   ]
  },
  {
   "cell_type": "code",
   "execution_count": 7,
   "id": "c8277f6e",
   "metadata": {},
   "outputs": [
    {
     "name": "stdout",
     "output_type": "stream",
     "text": [
      "Сейчас 09:30:02 в городе Москва\n"
     ]
    }
   ],
   "source": [
    "print(get_current_time(\"Москва\"))"
   ]
  },
  {
   "cell_type": "markdown",
   "id": "4ca5efc3",
   "metadata": {},
   "source": [
    "### **Погода**\n",
    "\n",
    "Функция получает на вход название города и дату в формате YYYY-MM-DD"
   ]
  },
  {
   "cell_type": "code",
   "execution_count": 7,
   "id": "5aeb17ac",
   "metadata": {},
   "outputs": [],
   "source": [
    "from modules.weather import get_weather"
   ]
  },
  {
   "cell_type": "code",
   "execution_count": 2,
   "id": "ad2aa8a2",
   "metadata": {},
   "outputs": [
    {
     "name": "stdout",
     "output_type": "stream",
     "text": [
      "Температура в этот день была -5.9°C ночью и -3.9°C днем.\n"
     ]
    }
   ],
   "source": [
    "print(get_weather(\"Миасс\", \"2003-10-25\"))"
   ]
  },
  {
   "cell_type": "code",
   "execution_count": 3,
   "id": "a15a16f8",
   "metadata": {},
   "outputs": [
    {
     "name": "stdout",
     "output_type": "stream",
     "text": [
      "Температура в этот день была 15.6°C ночью и 25.6°C днем.\n"
     ]
    }
   ],
   "source": [
    "print(get_weather(\"Северск\", \"2025-06-22\"))"
   ]
  },
  {
   "cell_type": "markdown",
   "id": "322707d9",
   "metadata": {},
   "source": [
    "***\n",
    "## **Бот + диалог**"
   ]
  },
  {
   "cell_type": "code",
   "execution_count": 1,
   "id": "4cc380ad",
   "metadata": {},
   "outputs": [],
   "source": [
    "from modules.llm_parser import parse_user_query\n",
    "from modules.time import get_current_time\n",
    "from modules.weather import get_weather"
   ]
  },
  {
   "cell_type": "code",
   "execution_count": 5,
   "id": "91a221a3",
   "metadata": {},
   "outputs": [
    {
     "name": "stdout",
     "output_type": "stream",
     "text": [
      "\n",
      "    🤖 Привет! Я бот, который подскажет тебе текущее время и погоду. \n",
      " \n",
      "    Если захочешь завершить диалог, напиши \"стоп\".\n",
      "\n",
      "    \n",
      "Пользователь: Привет, что ты умеешь?\n",
      "Бот: Я могу рассказать только про погоду и текущее время.\n",
      "Пользователь: Сколько будет 100-10?\n",
      "Бот: Я могу рассказать только про погоду и текущее время.\n",
      "Пользователь: Сколько сейчас времени?\n",
      "Бот: Сейчас 21:18:56 (по системному времени)\n",
      "Пользователь: А сколько времени в Москве?\n",
      "Бот: Сейчас 21:19:12 (по системному времени)\n",
      "Пользователь: Какая погода в Томске\n",
      "Бот: Не хватает данных, пожалуйста, укажите полный запрос, например: «Какая погода была в Москве 25 января 2025 года».\n",
      "Пользователь: Какая погода была в Томске 15 апреля 2025 года?\n",
      "Бот: Температура в этот день была -4.2°C ночью и 3.9°C днем.\n",
      "Пользователь: стоп\n",
      "Бот: До свидания!\n"
     ]
    }
   ],
   "source": [
    "print(\n",
    "    \"\"\"\n",
    "    🤖 Привет! Я бот, который подскажет тебе текущее время и погоду. \\n \n",
    "    Если захочешь завершить диалог, напиши \"стоп\".\\n\n",
    "    \"\"\"\n",
    "    )\n",
    "\n",
    "while True:\n",
    "    user_input = input(\"Пользователь: \")\n",
    "    print (f\"Пользователь: {user_input}\")\n",
    "    \n",
    "    if user_input.strip().lower() in {\"выход\", \"exit\", \"quit\", \"стоп\", \"stop\"}:\n",
    "        print(\"Бот: До свидания!\")\n",
    "        break\n",
    "\n",
    "    parsed = parse_user_query(user_input)\n",
    "    action = parsed.get(\"action\")\n",
    "    date = parsed.get(\"date\")\n",
    "    location = parsed.get(\"location\")\n",
    "\n",
    "    if action == \"get_time\":\n",
    "        response = get_current_time(location)\n",
    "        print(f\"Бот: {response}\")\n",
    "\n",
    "    elif action == \"get_weather\":\n",
    "        if not date or not location:\n",
    "            print(\"Бот: Не хватает данных, пожалуйста, укажите полный запрос, например: «Какая погода была в Москве 25 января 2025 года».\")\n",
    "        else:\n",
    "            response = get_weather(location, date)\n",
    "            print(f\"Бот: {response}\")\n",
    "\n",
    "    else:\n",
    "        print(\"Бот: Я могу рассказать только про погоду и текущее время.\")"
   ]
  }
 ],
 "metadata": {
  "kernelspec": {
   "display_name": "Python 3",
   "language": "python",
   "name": "python3"
  },
  "language_info": {
   "codemirror_mode": {
    "name": "ipython",
    "version": 3
   },
   "file_extension": ".py",
   "mimetype": "text/x-python",
   "name": "python",
   "nbconvert_exporter": "python",
   "pygments_lexer": "ipython3",
   "version": "3.13.3"
  }
 },
 "nbformat": 4,
 "nbformat_minor": 5
}
