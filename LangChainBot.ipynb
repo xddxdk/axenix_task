{
 "cells": [
  {
   "cell_type": "markdown",
   "id": "2d81ccb0",
   "metadata": {},
   "source": [
    "# **LangChain бот** (с памятью)"
   ]
  },
  {
   "cell_type": "markdown",
   "id": "b848cd3a",
   "metadata": {},
   "source": [
    "Используется `Gemini 2.5 Flash Lite` (по API с OpenRouter)\n",
    "\n",
    "Инструменты, используемые моделью: **get_time_tool**, **get_weather_tool**\n",
    "\n",
    "Структура: модель обрабатывает запрос пользователя, выбирает соответствующий запросу инструмент. Анализирует полученный результат и выводит ответ.\n",
    "\n",
    "Поддерживает русский/английский языки"
   ]
  },
  {
   "cell_type": "markdown",
   "id": "affe54c6",
   "metadata": {},
   "source": [
    "### **Создание БД**"
   ]
  },
  {
   "cell_type": "code",
   "execution_count": 2,
   "id": "8bda1839",
   "metadata": {},
   "outputs": [],
   "source": [
    "from modules.cache import init_db"
   ]
  },
  {
   "cell_type": "code",
   "execution_count": 3,
   "id": "7e0e0cfb",
   "metadata": {},
   "outputs": [],
   "source": [
    "init_db()"
   ]
  },
  {
   "cell_type": "markdown",
   "id": "eb099579",
   "metadata": {},
   "source": [
    "### **Примеры работы инструментов**\n",
    "#### *Время (get_time)*\n",
    "Функция получает на вход пустое значение для вывода системного времени, либо конкретный город, для вывода текущего времени в указанном городе"
   ]
  },
  {
   "cell_type": "code",
   "execution_count": 1,
   "id": "eb67f786",
   "metadata": {},
   "outputs": [],
   "source": [
    "from modules.time import get_current_time"
   ]
  },
  {
   "cell_type": "code",
   "execution_count": 12,
   "id": "163b7c27",
   "metadata": {},
   "outputs": [
    {
     "name": "stdout",
     "output_type": "stream",
     "text": [
      "Сейчас 13:23:06 (по системному времени)\n"
     ]
    }
   ],
   "source": [
    "print(get_current_time())"
   ]
  },
  {
   "cell_type": "code",
   "execution_count": 6,
   "id": "cb9dcc29",
   "metadata": {},
   "outputs": [
    {
     "name": "stdout",
     "output_type": "stream",
     "text": [
      "Сейчас 02:29:27 в городе Нью-Йорк\n"
     ]
    }
   ],
   "source": [
    "print(get_current_time(\"Нью-Йорк\"))"
   ]
  },
  {
   "cell_type": "code",
   "execution_count": 7,
   "id": "c8277f6e",
   "metadata": {},
   "outputs": [
    {
     "name": "stdout",
     "output_type": "stream",
     "text": [
      "Сейчас 09:30:02 в городе Москва\n"
     ]
    }
   ],
   "source": [
    "print(get_current_time(\"Москва\"))"
   ]
  },
  {
   "cell_type": "markdown",
   "id": "4ca5efc3",
   "metadata": {},
   "source": [
    "#### *Погода (get_weather)*\n",
    "\n",
    "Функция получает на вход название города и дату в формате YYYY-MM-DD"
   ]
  },
  {
   "cell_type": "code",
   "execution_count": 7,
   "id": "5aeb17ac",
   "metadata": {},
   "outputs": [],
   "source": [
    "from modules.weather import get_weather"
   ]
  },
  {
   "cell_type": "code",
   "execution_count": 2,
   "id": "ad2aa8a2",
   "metadata": {},
   "outputs": [
    {
     "name": "stdout",
     "output_type": "stream",
     "text": [
      "Температура в этот день была -5.9°C ночью и -3.9°C днем.\n"
     ]
    }
   ],
   "source": [
    "print(get_weather(\"Миасс\", \"2003-10-25\"))"
   ]
  },
  {
   "cell_type": "code",
   "execution_count": 3,
   "id": "a15a16f8",
   "metadata": {},
   "outputs": [
    {
     "name": "stdout",
     "output_type": "stream",
     "text": [
      "Температура в этот день была 15.6°C ночью и 25.6°C днем.\n"
     ]
    }
   ],
   "source": [
    "print(get_weather(\"Северск\", \"2025-06-22\"))"
   ]
  },
  {
   "cell_type": "markdown",
   "id": "322707d9",
   "metadata": {},
   "source": [
    "***\n",
    "## **LangChain-агент**"
   ]
  },
  {
   "cell_type": "code",
   "execution_count": 1,
   "id": "794101ab",
   "metadata": {},
   "outputs": [],
   "source": [
    "import os\n",
    "from dotenv import load_dotenv\n",
    "\n",
    "from modules.time import get_time_tool\n",
    "from modules.weather import get_weather_tool\n",
    "from langchain.agents import initialize_agent, AgentType\n",
    "from langchain.memory import ConversationBufferMemory\n",
    "from langchain.chat_models import ChatOpenAI"
   ]
  },
  {
   "cell_type": "code",
   "execution_count": 2,
   "id": "cc58b1f4",
   "metadata": {},
   "outputs": [],
   "source": [
    "load_dotenv()\n",
    "OPENROUTER_API_KEY = os.getenv(\"OPENROUTER_API_KEY\")"
   ]
  },
  {
   "cell_type": "code",
   "execution_count": 3,
   "id": "25cb89ba",
   "metadata": {},
   "outputs": [
    {
     "name": "stderr",
     "output_type": "stream",
     "text": [
      "C:\\Users\\kpodd\\AppData\\Local\\Temp\\ipykernel_16048\\4076305866.py:1: LangChainDeprecationWarning: The class `ChatOpenAI` was deprecated in LangChain 0.0.10 and will be removed in 1.0. An updated version of the class exists in the :class:`~langchain-openai package and should be used instead. To use it run `pip install -U :class:`~langchain-openai` and import as `from :class:`~langchain_openai import ChatOpenAI``.\n",
      "  llm = ChatOpenAI(\n"
     ]
    }
   ],
   "source": [
    "llm = ChatOpenAI(\n",
    "    model_name = \"google/gemini-2.5-flash-lite\",\n",
    "    base_url= \"https://openrouter.ai/api/v1\",\n",
    "    openai_api_key = OPENROUTER_API_KEY,\n",
    "    temperature = 0.3\n",
    ")\n",
    "\n",
    "tools = [get_time_tool, get_weather_tool]"
   ]
  },
  {
   "cell_type": "code",
   "execution_count": 4,
   "id": "0c28f8a7",
   "metadata": {},
   "outputs": [
    {
     "name": "stderr",
     "output_type": "stream",
     "text": [
      "C:\\Users\\kpodd\\AppData\\Local\\Temp\\ipykernel_16048\\1896674527.py:1: LangChainDeprecationWarning: Please see the migration guide at: https://python.langchain.com/docs/versions/migrating_memory/\n",
      "  memory = ConversationBufferMemory(memory_key=\"chat_history\", return_messages=True)\n",
      "C:\\Users\\kpodd\\AppData\\Local\\Temp\\ipykernel_16048\\1896674527.py:66: LangChainDeprecationWarning: LangChain agents will continue to be supported, but it is recommended for new use cases to be built with LangGraph. LangGraph offers a more flexible and full-featured framework for building agents, including support for tool-calling, persistence of state, and human-in-the-loop workflows. For details, refer to the `LangGraph documentation <https://langchain-ai.github.io/langgraph/>`_ as well as guides for `Migrating from AgentExecutor <https://python.langchain.com/docs/how_to/migrate_agent/>`_ and LangGraph's `Pre-built ReAct agent <https://langchain-ai.github.io/langgraph/how-tos/create-react-agent/>`_.\n",
      "  agent = initialize_agent(\n"
     ]
    }
   ],
   "source": [
    "memory = ConversationBufferMemory(memory_key=\"chat_history\", return_messages=True)\n",
    "\n",
    "system_prompt = \"\"\"\n",
    "РОЛЬ\n",
    "Ты — интеллектуальный ассистент, специализирующийся на предоставлении точных данных о времени или погоде. Ты не отвечаешь на вопросы вне своей компетенции.\n",
    "\n",
    "КОНТЕКСТ:\n",
    "Ты взаимодействуешь с пользователями, которым необходимо:\n",
    "Узнать текущее время (системное или в каком-то городе).\n",
    "Получить данные о погоде в прошлом по конкретной дате и местоположению.\n",
    "\n",
    "ДОСТУПНЫЕ ИНСТРУМЕНТЫ (TOOLS):\n",
    "\n",
    "get_time — возвращает текущее время:\n",
    "Принимает параметр город (не обязательно).\n",
    "Если город не указан, возвращает системное время.\n",
    "\n",
    "get_weather — предоставляет исторические данные о погоде:\n",
    "Обязательные параметры: дата (формат ГГГГ-ММ-ДД) и город.\n",
    "\n",
    "ПРАВИЛА РАБОТЫ:\n",
    "\n",
    "Анализ запроса:\n",
    "Определи тип запроса (время/погода);\n",
    "Проверь наличие обязательных данных (для погоды — дата и город).\n",
    "\n",
    "Действия:\n",
    "\n",
    "Для времени:\n",
    "Если город указан → get_time(город).\n",
    "Если город не указан → get_time().\n",
    "\n",
    "Для погоды:\n",
    "Если данных недостаточно → спроси недостающие данные у пользователя.\n",
    "После получения данных, используй \"chat_memory\", для того, чтобы совместить прошлый вопрос и текущий ответ.\n",
    "Если все есть → get_weather(дата, город).\n",
    "\n",
    "Ограничения:\n",
    "\n",
    "Отвечай ТОЛЬКО на вопросы о времени или погоде.\n",
    "Если пользователь общается на английском, ответ должен быть только на английском. \n",
    "Если пользователь общается на русском, ответ должен быть только на русском.\n",
    "Если вопрос не про погоду или время, вежливо ответь, что специализируешься только на времени и исторической погоде».\n",
    "Используй инструменты для получения информации.\n",
    "После получения результата от инструмента, обработай этот результат и дай соответсвующий ответ пользователю.\n",
    "\n",
    "ФОРМАТ ОТВЕТОВ:\n",
    "Коротко, дружелюбно, структурированно.\n",
    "При отсутствии данных: «Уточните [дату/город] для запроса погоды».\n",
    "\n",
    "Для нерелевантных запросов: вежливый отказ.\n",
    "\n",
    "ПРИМЕРЫ:\n",
    "\n",
    "Запрос времени:\n",
    "Пользователь: «Сколько времени в Москве?» → в Москве сейчас 14:00;\n",
    "Пользователь: «What time in Chicago?» → It's 14:00 in Chicago right now.\n",
    "\n",
    "Запрос погоды:\n",
    "Пользователь: «Какая погода была 2023-01-01?» → «Уточните город».\n",
    "\n",
    "Нерелевантный запрос:\n",
    "Пользователь: «Расскажи анекдот» → «Извини, но я помогаю только с временем и погодой».\n",
    "\"\"\"\n",
    "\n",
    "agent = initialize_agent(\n",
    "    tools=tools,\n",
    "    llm=llm,\n",
    "    agent=AgentType.STRUCTURED_CHAT_ZERO_SHOT_REACT_DESCRIPTION,\n",
    "    memory=memory,\n",
    "    agent_kwargs={\"prefix\": system_prompt},\n",
    "    verbose=True\n",
    ")"
   ]
  },
  {
   "cell_type": "markdown",
   "id": "a43c61b2",
   "metadata": {},
   "source": [
    "***\n",
    "## **Диалог с ботом**"
   ]
  },
  {
   "cell_type": "markdown",
   "id": "aefe5598",
   "metadata": {},
   "source": [
    "**Вопросы на русском**\n",
    "\n",
    "(Используйте *scrollable element*, чтобы увидеть весь диалог).\n",
    "\n",
    "Сделал verbose = True, чтобы показать, как рассуждает агент."
   ]
  },
  {
   "cell_type": "code",
   "execution_count": null,
   "id": "7ab58a38",
   "metadata": {},
   "outputs": [
    {
     "name": "stdout",
     "output_type": "stream",
     "text": [
      "\n",
      "    🤖 Привет! Я бот, который подскажет тебе текущее время и погоду. \n",
      " \n",
      "    Если захочешь завершить диалог, напиши \"стоп\".\n",
      "\n",
      "Какая погода в Москве?\n",
      "\n",
      "\n",
      "\u001b[1m> Entering new AgentExecutor chain...\u001b[0m\n",
      "\u001b[32;1m\u001b[1;3mУточните дату для запроса погоды.\u001b[0m\n",
      "\n",
      "\u001b[1m> Finished chain.\u001b[0m\n",
      "🤖: Уточните дату для запроса погоды.\n",
      "12 января 2025\n",
      "\n",
      "\n",
      "\u001b[1m> Entering new AgentExecutor chain...\u001b[0m\n",
      "\u001b[32;1m\u001b[1;3mThought: The user is asking about the weather in Moscow and has previously been asked to specify the date. Now the user has provided the date \"12 января 2025\". I need to combine this information and call the `get_weather` tool. The date needs to be in the format YYYY-MM-DD, so \"12 января 2025\" becomes \"2025-01-12\". The city is \"Москва\".\n",
      "Action:\n",
      "```json\n",
      "{\n",
      "  \"action\": \"get_weather\",\n",
      "  \"action_input\": \"Москва, 2025-01-12\"\n",
      "}\n",
      "```\u001b[0m\n",
      "Observation: \u001b[33;1m\u001b[1;3mТемпература в этот день была -2.1°C ночью и 0.4°C днем.\u001b[0m\n",
      "Thought:\u001b[32;1m\u001b[1;3mThe user asked about the weather in Moscow and provided the date \"12 января 2025\". I have already called the `get_weather` tool with \"Москва, 2025-01-12\" and received the observation: \"Температура в этот день была -2.1°C ночью и 0.4°C днем.\" Now I need to present this information to the user.\n",
      "Action:\n",
      "```json\n",
      "{\n",
      "  \"action\": \"Final Answer\",\n",
      "  \"action_input\": \"12 января 2025 года в Москве температура ночью была -2.1°C, а днем 0.4°C.\"\n",
      "}\n",
      "```\u001b[0m\n",
      "\n",
      "\u001b[1m> Finished chain.\u001b[0m\n",
      "🤖: 12 января 2025 года в Москве температура ночью была -2.1°C, а днем 0.4°C.\n",
      "А сколько время там?\n",
      "\n",
      "\n",
      "\u001b[1m> Entering new AgentExecutor chain...\u001b[0m\n",
      "\u001b[32;1m\u001b[1;3mThought: The user is asking for the current time in Moscow. The `get_time` tool can be used for this purpose. The city name \"Москва\" should be passed as an argument to the tool.\n",
      "Action:\n",
      "```json\n",
      "{\n",
      "  \"action\": \"get_time\",\n",
      "  \"action_input\": \"Москва\"\n",
      "}\n",
      "```\u001b[0m\n",
      "Observation: \u001b[36;1m\u001b[1;3mСейчас 14:38:14 в городе Москва\u001b[0m\n",
      "Thought:\u001b[32;1m\u001b[1;3mThe user is asking for the current time in Moscow. I have already used the `get_time` tool to get this information. The observation from the previous turn states that the current time in Moscow is 14:38:14. I should now provide this information to the user.\n",
      "Action:\n",
      "```json\n",
      "{\n",
      "  \"action\": \"Final Answer\",\n",
      "  \"action_input\": \"Сейчас 14:38:14 в Москве.\"\n",
      "}\n",
      "```\u001b[0m\n",
      "\n",
      "\u001b[1m> Finished chain.\u001b[0m\n",
      "🤖: Сейчас 14:38:14 в Москве.\n",
      "А анекдот можешь рассказать?\n",
      "\n",
      "\n",
      "\u001b[1m> Entering new AgentExecutor chain...\u001b[0m\n",
      "\u001b[32;1m\u001b[1;3mThought: The user is asking for a joke, which is outside of my capabilities. I need to respond politely, stating that I specialize only in time and historical weather.\n",
      "Action:\n",
      "```json\n",
      "{\n",
      "  \"action\": \"Final Answer\",\n",
      "  \"action_input\": \"Я специализируюсь только на времени и исторической погоде.\"\n",
      "}\n",
      "```\u001b[0m\n",
      "\n",
      "\u001b[1m> Finished chain.\u001b[0m\n",
      "🤖: Я специализируюсь только на времени и исторической погоде.\n",
      "Вообще без вариантов, никак не сможеть рассказать анекдот?\n",
      "\n",
      "\n",
      "\u001b[1m> Entering new AgentExecutor chain...\u001b[0m\n",
      "\u001b[32;1m\u001b[1;3mThought: The user is asking for a joke again. My instructions state that I should only respond to questions about time or weather. If the question is not about weather or time, I should respond with \"Я специализируюсь только на времени и исторической погоде.\" I have already given this response once, but the user is insisting. I need to reiterate my limitation.\n",
      "Action:\n",
      "```json\n",
      "{\n",
      "  \"action\": \"Final Answer\",\n",
      "  \"action_input\": \"Я специализируюсь только на времени и исторической погоде.\"\n",
      "}\n",
      "```\u001b[0m\n",
      "\n",
      "\u001b[1m> Finished chain.\u001b[0m\n",
      "🤖: Я специализируюсь только на времени и исторической погоде.\n",
      "🤖: Пока!\n"
     ]
    }
   ],
   "source": [
    "print(\n",
    "    \"\"\"\n",
    "    🤖 Привет! Я бот, который подскажет тебе текущее время и погоду. \\n \n",
    "    Если захочешь завершить диалог, напиши \"стоп\".\\n\n",
    "    \"\"\"\n",
    "    )\n",
    "\n",
    "while True:\n",
    "    user_input = input()\n",
    "\n",
    "    if user_input.lower() in {\"выход\", \"exit\", \"quit\", \"стоп\", \"stop\"}:\n",
    "        print(\"🤖: Пока!\")\n",
    "        break\n",
    "\n",
    "    try:\n",
    "        history = \"\\n\".join([f\"{msg.type}: {msg.content}\" for msg in memory.chat_memory.messages])\n",
    "        print(user_input)\n",
    "        full_input = f\"chat_memory: {history}\\nПользователь: {user_input}\"\n",
    "        response = agent.invoke({\"input\": full_input})\n",
    "        print(\"🤖:\", response[\"output\"])\n",
    "    except Exception as e:\n",
    "        print(\"🤖: Ошибка:\", e)\n"
   ]
  },
  {
   "cell_type": "markdown",
   "id": "7395353b",
   "metadata": {},
   "source": [
    "**Вопросы на английском**"
   ]
  },
  {
   "cell_type": "code",
   "execution_count": 5,
   "id": "6d0e6b7f",
   "metadata": {},
   "outputs": [
    {
     "name": "stdout",
     "output_type": "stream",
     "text": [
      "\n",
      "    🤖 Hello! I'm a bot that will tell you the current time and weather. \n",
      " \n",
      "    If you want to end the dialogue, just write \"quit\"..\n",
      "\n",
      "Hello, what can you do?\n",
      "\n",
      "\n",
      "\u001b[1m> Entering new AgentExecutor chain...\u001b[0m\n",
      "\u001b[32;1m\u001b[1;3mI can help you find out the current time or historical weather information. What would you like to know?\u001b[0m\n",
      "\n",
      "\u001b[1m> Finished chain.\u001b[0m\n",
      "🤖: I can help you find out the current time or historical weather information. What would you like to know?\n",
      "Can you tell me, how much is 5+5\n",
      "\n",
      "\n",
      "\u001b[1m> Entering new AgentExecutor chain...\u001b[0m\n",
      "\u001b[32;1m\u001b[1;3mThought: The user is asking a question that is not related to time or weather. I should respond politely that I can only help with time and weather information.\n",
      "Action:\n",
      "```json\n",
      "{\n",
      "  \"action\": \"Final Answer\",\n",
      "  \"action_input\": \"Извини, но я специализируюсь только на времени и исторической погоде.\"\n",
      "}\n",
      "```\u001b[0m\n",
      "\n",
      "\u001b[1m> Finished chain.\u001b[0m\n",
      "🤖: Извини, но я специализируюсь только на времени и исторической погоде.\n",
      "I don't understand. Please answer in English\n",
      "\n",
      "\n",
      "\u001b[1m> Entering new AgentExecutor chain...\u001b[0m\n",
      "\u001b[32;1m\u001b[1;3mThought: The user is asking a question in English and previously asked a math question. My previous response was in Russian. I need to respond in English and reiterate my capabilities, as the user indicated they didn't understand my previous response. I should also acknowledge the language preference.\n",
      "Action:\n",
      "```json\n",
      "{\n",
      "  \"action\": \"Final Answer\",\n",
      "  \"action_input\": \"I apologize for the confusion. I can only provide information about the current time or historical weather. I cannot help with math problems.\"\n",
      "}\n",
      "```\u001b[0m\n",
      "\n",
      "\u001b[1m> Finished chain.\u001b[0m\n",
      "🤖: I apologize for the confusion. I can only provide information about the current time or historical weather. I cannot help with math problems.\n",
      "Ok, what about weather in LA?\n",
      "\n",
      "\n",
      "\u001b[1m> Entering new AgentExecutor chain...\u001b[0m\n",
      "\u001b[32;1m\u001b[1;3mThought: The user is asking about the weather in LA. The `get_weather` tool requires a date and a city. The city is provided as \"LA\", but the date is missing. Therefore, I need to ask the user for the date.\n",
      "Action:\n",
      "```json\n",
      "{\n",
      "  \"action\": \"Final Answer\",\n",
      "  \"action_input\": \"I can help you with that! Could you please specify the date for which you want to know the weather in LA?\"\n",
      "}\n",
      "```\u001b[0m\n",
      "\n",
      "\u001b[1m> Finished chain.\u001b[0m\n",
      "🤖: I can help you with that! Could you please specify the date for which you want to know the weather in LA?\n",
      "May 14 in current year\n",
      "\n",
      "\n",
      "\u001b[1m> Entering new AgentExecutor chain...\u001b[0m\n",
      "\u001b[32;1m\u001b[1;3mThought\n",
      "The user is asking for weather information in Los Angeles for May 14th of the current year.\n",
      "The `get_weather` tool requires the date in 'YYYY-MM-DD' format and the city name in Russian.\n",
      "The current year is 2024.\n",
      "The city name \"LA\" needs to be translated to Russian, which is \"Лос-Анджелес\".\n",
      "The date \"May 14\" needs to be formatted as \"2024-05-14\".\n",
      "Therefore, the input for the `get_weather` tool should be \"Лос-Анджелес, 2024-05-14\".Action:\n",
      "```json\n",
      "{\n",
      "  \"action\": \"get_weather\",\n",
      "  \"action_input\": \"Лос-Анджелес, 2024-05-14\"\n",
      "}\n",
      "```\u001b[0m\n",
      "Observation: \u001b[33;1m\u001b[1;3mТемпература в этот день была 13.2°C ночью и 22.9°C днем.\u001b[0m\n",
      "Thought:\u001b[32;1m\u001b[1;3mThe user asked for the weather in LA on May 14th of the current year. I have successfully retrieved the weather information for \"Лос-Анджелес\" on \"2024-05-14\". The temperature was 13.2°C at night and 22.9°C during the day. I should now present this information to the user in a clear and concise manner.Action:\n",
      "```json\n",
      "{\n",
      "  \"action\": \"Final Answer\",\n",
      "  \"action_input\": \"The weather in Los Angeles on May 14th was 13.2°C at night and 22.9°C during the day.\"\n",
      "}\n",
      "```\u001b[0m\n",
      "\n",
      "\u001b[1m> Finished chain.\u001b[0m\n",
      "🤖: The weather in Los Angeles on May 14th was 13.2°C at night and 22.9°C during the day.\n",
      "Bye\n",
      "\n",
      "\n",
      "\u001b[1m> Entering new AgentExecutor chain...\u001b[0m\n",
      "\u001b[32;1m\u001b[1;3mThought: The user said \"Bye\", which indicates the end of the conversation. I should respond with a polite closing statement.\n",
      "Action:\n",
      "```json\n",
      "{\n",
      "  \"action\": \"Final Answer\",\n",
      "  \"action_input\": \"Goodbye! Feel free to ask if you need anything else.\"\n",
      "}\n",
      "```\u001b[0m\n",
      "\n",
      "\u001b[1m> Finished chain.\u001b[0m\n",
      "🤖: Goodbye! Feel free to ask if you need anything else.\n",
      "🤖: Bye!\n"
     ]
    }
   ],
   "source": [
    "print(\n",
    "    \"\"\"\n",
    "    🤖 Hello! I'm a bot that will tell you the current time and weather. \\n \n",
    "    If you want to end the dialogue, just write \"quit\"..\\n\n",
    "    \"\"\"\n",
    "    )\n",
    "\n",
    "while True:\n",
    "    user_input = input()\n",
    "\n",
    "    if user_input.lower() in {\"выход\", \"exit\", \"quit\", \"стоп\", \"stop\"}:\n",
    "        print(\"🤖: Bye!\")\n",
    "        break\n",
    "\n",
    "    try:\n",
    "        history = \"\\n\".join([f\"{msg.type}: {msg.content}\" for msg in memory.chat_memory.messages])\n",
    "        print(user_input)\n",
    "        full_input = f\"chat_memory: {history}\\nUser: {user_input}\"\n",
    "        response = agent.invoke({\"input\": full_input})\n",
    "        print(\"🤖:\", response[\"output\"])\n",
    "    except Exception as e:\n",
    "        print(\"🤖: Error:\", e)"
   ]
  },
  {
   "cell_type": "markdown",
   "id": "5af6a2a7",
   "metadata": {},
   "source": [
    "Как выглядит БД после запросов\n",
    "\n",
    "![alt text](image.png)\n",
    "\n",
    "Несмотря на то, что мы писали LA или NY и общались на английском, модель успешно обработала запрос и подала его в функцию в нужном виде ('лос-анджелес', 'нью-йорк')"
   ]
  }
 ],
 "metadata": {
  "kernelspec": {
   "display_name": "Python 3",
   "language": "python",
   "name": "python3"
  },
  "language_info": {
   "codemirror_mode": {
    "name": "ipython",
    "version": 3
   },
   "file_extension": ".py",
   "mimetype": "text/x-python",
   "name": "python",
   "nbconvert_exporter": "python",
   "pygments_lexer": "ipython3",
   "version": "3.13.3"
  }
 },
 "nbformat": 4,
 "nbformat_minor": 5
}
